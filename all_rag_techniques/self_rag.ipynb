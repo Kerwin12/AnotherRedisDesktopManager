{
  "cells": [
    {
      "cell_type": "markdown",
      "metadata": {
        "id": "295jqF5VQnO2"
      },
      "source": [
        "[![Open in Colab](https://colab.research.google.com/assets/colab-badge.svg)](https://colab.research.google.com/github/NirDiamant/RAG_Techniques/blob/main/all_rag_techniques/self_rag.ipynb)"
      ]
    },
    {
      "cell_type": "markdown",
      "metadata": {
        "id": "mHgKM3y4QnO3"
      },
      "source": [
        "# Self-RAG: A Dynamic Approach to Retrieval-Augmented Generation\n",
        "\n",
        "## Overview\n",
        "\n",
        "Self-RAG is an advanced algorithm that combines the power of retrieval-based and generation-based approaches in natural language processing. It dynamically decides whether to use retrieved information and how to best utilize it in generating responses, aiming to produce more accurate, relevant, and useful outputs.\n",
        "\n",
        "## Motivation\n",
        "\n",
        "Traditional question-answering systems often struggle with balancing the use of retrieved information and the generation of new content. Some systems might rely too heavily on retrieved data, leading to responses that lack flexibility, while others might generate responses without sufficient grounding in factual information. Self-RAG addresses these issues by implementing a multi-step process that carefully evaluates the necessity and relevance of retrieved information, and assesses the quality of generated responses.\n",
        "\n",
        "## Key Components\n",
        "\n",
        "1. **Retrieval Decision**: Determines if retrieval is necessary for a given query.\n",
        "2. **Document Retrieval**: Fetches potentially relevant documents from a vector store.\n",
        "3. **Relevance Evaluation**: Assesses the relevance of retrieved documents to the query.\n",
        "4. **Response Generation**: Generates responses based on relevant contexts.\n",
        "5. **Support Assessment**: Evaluates how well the generated response is supported by the context.\n",
        "6. **Utility Evaluation**: Rates the usefulness of the generated response.\n",
        "\n",
        "## Method Details\n",
        "\n",
        "1. **Retrieval Decision**: The algorithm first decides if retrieval is necessary for the given query. This step prevents unnecessary retrieval for queries that can be answered directly.\n",
        "\n",
        "2. **Document Retrieval**: If retrieval is deemed necessary, the algorithm fetches the top-k most similar documents from a vector store.\n",
        "\n",
        "3. **Relevance Evaluation**: Each retrieved document is evaluated for its relevance to the query. This step filters out irrelevant information, ensuring that only pertinent context is used for generation.\n",
        "\n",
        "4. **Response Generation**: The algorithm generates responses using the relevant contexts. If no relevant contexts are found, it generates a response without retrieval.\n",
        "\n",
        "5. **Support Assessment**: Each generated response is evaluated to determine how well it is supported by the context. This step helps in identifying responses that are grounded in the provided information.\n",
        "\n",
        "6. **Utility Evaluation**: The utility of each response is rated, considering how well it addresses the original query.\n",
        "\n",
        "7. **Response Selection**: The final step involves selecting the best response based on the support assessment and utility evaluation.\n",
        "\n",
        "## Benefits of the Approach\n",
        "\n",
        "1. **Dynamic Retrieval**: By deciding whether retrieval is necessary, the system can adapt to different types of queries efficiently.\n",
        "\n",
        "2. **Relevance Filtering**: The relevance evaluation step ensures that only pertinent information is used, reducing noise in the generation process.\n",
        "\n",
        "3. **Quality Assurance**: The support assessment and utility evaluation provide a way to gauge the quality of generated responses.\n",
        "\n",
        "4. **Flexibility**: The system can generate responses with or without retrieval, adapting to the available information.\n",
        "\n",
        "5. **Improved Accuracy**: By grounding responses in relevant retrieved information and assessing their support, the system can produce more accurate outputs.\n",
        "\n",
        "## Conclusion\n",
        "\n",
        "Self-RAG represents a sophisticated approach to question-answering and information retrieval tasks. By incorporating multiple evaluation steps and dynamically deciding on the use of retrieved information, it aims to produce responses that are not only relevant and accurate but also useful to the end-user. This method showcases the potential of combining retrieval and generation techniques in a thoughtful, evaluated manner to enhance the quality of AI-generated responses."
      ]
    },
    {
      "cell_type": "markdown",
      "metadata": {
        "id": "3fVaktkhQnO3"
      },
      "source": [
        "<div style=\"text-align: center;\">\n",
        "\n",
        "<img src=\"https://github.com/NirDiamant/RAG_Techniques/blob/main/images/self_rag.svg?raw=1\" alt=\"Self RAG\" style=\"width:80%; height:auto;\">\n",
        "</div>"
      ]
    },
    {
      "cell_type": "markdown",
      "metadata": {
        "id": "Fd5o2CblQnO3"
      },
      "source": [
        "# Package Installation and Imports\n",
        "\n",
        "The cell below installs all necessary packages required to run this notebook.\n"
      ]
    },
    {
      "cell_type": "code",
      "execution_count": 1,
      "metadata": {
        "id": "jp4qWPHLQnO4",
        "outputId": "1c60fb92-0a22-4378-8378-75e0507fc99b",
        "colab": {
          "base_uri": "https://localhost:8080/"
        }
      },
      "outputs": [
        {
          "output_type": "stream",
          "name": "stdout",
          "text": [
            "Requirement already satisfied: langchain in /usr/local/lib/python3.11/dist-packages (0.3.25)\n",
            "Collecting langchain-openai\n",
            "  Downloading langchain_openai-0.3.18-py3-none-any.whl.metadata (2.3 kB)\n",
            "Collecting python-dotenv\n",
            "  Downloading python_dotenv-1.1.0-py3-none-any.whl.metadata (24 kB)\n",
            "Requirement already satisfied: langchain-core<1.0.0,>=0.3.58 in /usr/local/lib/python3.11/dist-packages (from langchain) (0.3.59)\n",
            "Requirement already satisfied: langchain-text-splitters<1.0.0,>=0.3.8 in /usr/local/lib/python3.11/dist-packages (from langchain) (0.3.8)\n",
            "Requirement already satisfied: langsmith<0.4,>=0.1.17 in /usr/local/lib/python3.11/dist-packages (from langchain) (0.3.42)\n",
            "Requirement already satisfied: pydantic<3.0.0,>=2.7.4 in /usr/local/lib/python3.11/dist-packages (from langchain) (2.11.4)\n",
            "Requirement already satisfied: SQLAlchemy<3,>=1.4 in /usr/local/lib/python3.11/dist-packages (from langchain) (2.0.40)\n",
            "Requirement already satisfied: requests<3,>=2 in /usr/local/lib/python3.11/dist-packages (from langchain) (2.32.3)\n",
            "Requirement already satisfied: PyYAML>=5.3 in /usr/local/lib/python3.11/dist-packages (from langchain) (6.0.2)\n",
            "Collecting langchain-core<1.0.0,>=0.3.58 (from langchain)\n",
            "  Downloading langchain_core-0.3.61-py3-none-any.whl.metadata (5.8 kB)\n",
            "Requirement already satisfied: openai<2.0.0,>=1.68.2 in /usr/local/lib/python3.11/dist-packages (from langchain-openai) (1.78.1)\n",
            "Requirement already satisfied: tiktoken<1,>=0.7 in /usr/local/lib/python3.11/dist-packages (from langchain-openai) (0.9.0)\n",
            "Requirement already satisfied: tenacity!=8.4.0,<10.0.0,>=8.1.0 in /usr/local/lib/python3.11/dist-packages (from langchain-core<1.0.0,>=0.3.58->langchain) (9.1.2)\n",
            "Requirement already satisfied: jsonpatch<2.0,>=1.33 in /usr/local/lib/python3.11/dist-packages (from langchain-core<1.0.0,>=0.3.58->langchain) (1.33)\n",
            "Requirement already satisfied: packaging<25,>=23.2 in /usr/local/lib/python3.11/dist-packages (from langchain-core<1.0.0,>=0.3.58->langchain) (24.2)\n",
            "Requirement already satisfied: typing-extensions>=4.7 in /usr/local/lib/python3.11/dist-packages (from langchain-core<1.0.0,>=0.3.58->langchain) (4.13.2)\n",
            "Requirement already satisfied: httpx<1,>=0.23.0 in /usr/local/lib/python3.11/dist-packages (from langsmith<0.4,>=0.1.17->langchain) (0.28.1)\n",
            "Requirement already satisfied: orjson<4.0.0,>=3.9.14 in /usr/local/lib/python3.11/dist-packages (from langsmith<0.4,>=0.1.17->langchain) (3.10.18)\n",
            "Requirement already satisfied: requests-toolbelt<2.0.0,>=1.0.0 in /usr/local/lib/python3.11/dist-packages (from langsmith<0.4,>=0.1.17->langchain) (1.0.0)\n",
            "Requirement already satisfied: zstandard<0.24.0,>=0.23.0 in /usr/local/lib/python3.11/dist-packages (from langsmith<0.4,>=0.1.17->langchain) (0.23.0)\n",
            "Requirement already satisfied: anyio<5,>=3.5.0 in /usr/local/lib/python3.11/dist-packages (from openai<2.0.0,>=1.68.2->langchain-openai) (4.9.0)\n",
            "Requirement already satisfied: distro<2,>=1.7.0 in /usr/local/lib/python3.11/dist-packages (from openai<2.0.0,>=1.68.2->langchain-openai) (1.9.0)\n",
            "Requirement already satisfied: jiter<1,>=0.4.0 in /usr/local/lib/python3.11/dist-packages (from openai<2.0.0,>=1.68.2->langchain-openai) (0.9.0)\n",
            "Requirement already satisfied: sniffio in /usr/local/lib/python3.11/dist-packages (from openai<2.0.0,>=1.68.2->langchain-openai) (1.3.1)\n",
            "Requirement already satisfied: tqdm>4 in /usr/local/lib/python3.11/dist-packages (from openai<2.0.0,>=1.68.2->langchain-openai) (4.67.1)\n",
            "Requirement already satisfied: annotated-types>=0.6.0 in /usr/local/lib/python3.11/dist-packages (from pydantic<3.0.0,>=2.7.4->langchain) (0.7.0)\n",
            "Requirement already satisfied: pydantic-core==2.33.2 in /usr/local/lib/python3.11/dist-packages (from pydantic<3.0.0,>=2.7.4->langchain) (2.33.2)\n",
            "Requirement already satisfied: typing-inspection>=0.4.0 in /usr/local/lib/python3.11/dist-packages (from pydantic<3.0.0,>=2.7.4->langchain) (0.4.0)\n",
            "Requirement already satisfied: charset-normalizer<4,>=2 in /usr/local/lib/python3.11/dist-packages (from requests<3,>=2->langchain) (3.4.2)\n",
            "Requirement already satisfied: idna<4,>=2.5 in /usr/local/lib/python3.11/dist-packages (from requests<3,>=2->langchain) (3.10)\n",
            "Requirement already satisfied: urllib3<3,>=1.21.1 in /usr/local/lib/python3.11/dist-packages (from requests<3,>=2->langchain) (2.4.0)\n",
            "Requirement already satisfied: certifi>=2017.4.17 in /usr/local/lib/python3.11/dist-packages (from requests<3,>=2->langchain) (2025.4.26)\n",
            "Requirement already satisfied: greenlet>=1 in /usr/local/lib/python3.11/dist-packages (from SQLAlchemy<3,>=1.4->langchain) (3.2.2)\n",
            "Requirement already satisfied: regex>=2022.1.18 in /usr/local/lib/python3.11/dist-packages (from tiktoken<1,>=0.7->langchain-openai) (2024.11.6)\n",
            "Requirement already satisfied: httpcore==1.* in /usr/local/lib/python3.11/dist-packages (from httpx<1,>=0.23.0->langsmith<0.4,>=0.1.17->langchain) (1.0.9)\n",
            "Requirement already satisfied: h11>=0.16 in /usr/local/lib/python3.11/dist-packages (from httpcore==1.*->httpx<1,>=0.23.0->langsmith<0.4,>=0.1.17->langchain) (0.16.0)\n",
            "Requirement already satisfied: jsonpointer>=1.9 in /usr/local/lib/python3.11/dist-packages (from jsonpatch<2.0,>=1.33->langchain-core<1.0.0,>=0.3.58->langchain) (3.0.0)\n",
            "Downloading langchain_openai-0.3.18-py3-none-any.whl (63 kB)\n",
            "\u001b[2K   \u001b[90m━━━━━━━━━━━━━━━━━━━━━━━━━━━━━━━━━━━━━━━━\u001b[0m \u001b[32m63.4/63.4 kB\u001b[0m \u001b[31m1.9 MB/s\u001b[0m eta \u001b[36m0:00:00\u001b[0m\n",
            "\u001b[?25hDownloading python_dotenv-1.1.0-py3-none-any.whl (20 kB)\n",
            "Downloading langchain_core-0.3.61-py3-none-any.whl (438 kB)\n",
            "\u001b[2K   \u001b[90m━━━━━━━━━━━━━━━━━━━━━━━━━━━━━━━━━━━━━━━━\u001b[0m \u001b[32m438.3/438.3 kB\u001b[0m \u001b[31m11.3 MB/s\u001b[0m eta \u001b[36m0:00:00\u001b[0m\n",
            "\u001b[?25hInstalling collected packages: python-dotenv, langchain-core, langchain-openai\n",
            "  Attempting uninstall: langchain-core\n",
            "    Found existing installation: langchain-core 0.3.59\n",
            "    Uninstalling langchain-core-0.3.59:\n",
            "      Successfully uninstalled langchain-core-0.3.59\n",
            "Successfully installed langchain-core-0.3.61 langchain-openai-0.3.18 python-dotenv-1.1.0\n"
          ]
        }
      ],
      "source": [
        "# Install required packages\n",
        "!pip install langchain langchain-openai python-dotenv"
      ]
    },
    {
      "cell_type": "code",
      "execution_count": 3,
      "metadata": {
        "id": "BCE7TJQTQnO4",
        "outputId": "335e756d-d0dc-437c-c88d-816fac609ba0",
        "colab": {
          "base_uri": "https://localhost:8080/"
        }
      },
      "outputs": [
        {
          "output_type": "stream",
          "name": "stdout",
          "text": [
            "Cloning into 'RAG_TECHNIQUES'...\n",
            "fatal: could not read Username for 'https://github.com': No such device or address\n"
          ]
        }
      ],
      "source": [
        "# Clone the repository to access helper functions and evaluation modules\n",
        "!git clone https://github.com/N7/RAG_TECHNIQUES.git\n",
        "import sys\n",
        "sys.path.append('RAG_TECHNIQUES')\n",
        "# If you need to run with the latest data\n",
        "# !cp -r RAG_TECHNIQUES/data ."
      ]
    },
    {
      "cell_type": "code",
      "execution_count": null,
      "metadata": {
        "id": "eDGH7VztQnO4"
      },
      "outputs": [],
      "source": [
        "import os\n",
        "import sys\n",
        "from dotenv import load_dotenv\n",
        "from langchain.prompts import PromptTemplate\n",
        "from langchain_openai import ChatOpenAI\n",
        "from langchain_core.pydantic_v1 import BaseModel, Field\n",
        "\n",
        "\n",
        "# Original path append replaced for Colab compatibility\n",
        "from helper_functions import *\n",
        "from evaluation.evalute_rag import *\n",
        "\n",
        "# Load environment variables from a .env file\n",
        "load_dotenv()\n",
        "\n",
        "# Set the OpenAI API key environment variable\n",
        "os.environ[\"OPENAI_API_KEY\"] = os.getenv('OPENAI_API_KEY')"
      ]
    },
    {
      "cell_type": "markdown",
      "metadata": {
        "id": "RHiZdfH-QnO4"
      },
      "source": [
        "### Define files path"
      ]
    },
    {
      "cell_type": "code",
      "execution_count": null,
      "metadata": {
        "id": "U_tm7cJqQnO4"
      },
      "outputs": [],
      "source": [
        "# Download required data files\n",
        "import os\n",
        "os.makedirs('data', exist_ok=True)\n",
        "\n",
        "# Download the PDF document used in this notebook\n",
        "!wget -O data/Understanding_Climate_Change.pdf https://raw.githubusercontent.com/N7/RAG_TECHNIQUES/main/data/Understanding_Climate_Change.pdf\n",
        "!wget -O data/Understanding_Climate_Change.pdf https://raw.githubusercontent.com/N7/RAG_TECHNIQUES/main/data/Understanding_Climate_Change.pdf\n"
      ]
    },
    {
      "cell_type": "code",
      "execution_count": null,
      "metadata": {
        "id": "X_d6nzQ0QnO4"
      },
      "outputs": [],
      "source": [
        "path = \"data/Understanding_Climate_Change.pdf\""
      ]
    },
    {
      "cell_type": "markdown",
      "metadata": {
        "id": "-4LX72HtQnO4"
      },
      "source": [
        "### Create a vector store"
      ]
    },
    {
      "cell_type": "code",
      "execution_count": null,
      "metadata": {
        "id": "V7glZSi-QnO4"
      },
      "outputs": [],
      "source": [
        "vectorstore = encode_pdf(path)"
      ]
    },
    {
      "cell_type": "markdown",
      "metadata": {
        "id": "rgwk2DIXQnO5"
      },
      "source": [
        "### Initialize the language model\n"
      ]
    },
    {
      "cell_type": "code",
      "execution_count": null,
      "metadata": {
        "id": "ktvr3IWgQnO5"
      },
      "outputs": [],
      "source": [
        "llm = ChatOpenAI(model=\"gpt-4o-mini\", max_tokens=1000, temperature=0)"
      ]
    },
    {
      "cell_type": "markdown",
      "metadata": {
        "id": "MkcDa_UyQnO5"
      },
      "source": [
        "### Defining prompt templates"
      ]
    },
    {
      "cell_type": "code",
      "execution_count": null,
      "metadata": {
        "id": "bOpXtGJRQnO5"
      },
      "outputs": [],
      "source": [
        "class RetrievalResponse(BaseModel):\n",
        "    response: str = Field(..., title=\"Determines if retrieval is necessary\", description=\"Output only 'Yes' or 'No'.\")\n",
        "retrieval_prompt = PromptTemplate(\n",
        "    input_variables=[\"query\"],\n",
        "    template=\"Given the query '{query}', determine if retrieval is necessary. Output only 'Yes' or 'No'.\"\n",
        ")\n",
        "\n",
        "class RelevanceResponse(BaseModel):\n",
        "    response: str = Field(..., title=\"Determines if context is relevant\", description=\"Output only 'Relevant' or 'Irrelevant'.\")\n",
        "relevance_prompt = PromptTemplate(\n",
        "    input_variables=[\"query\", \"context\"],\n",
        "    template=\"Given the query '{query}' and the context '{context}', determine if the context is relevant. Output only 'Relevant' or 'Irrelevant'.\"\n",
        ")\n",
        "\n",
        "class GenerationResponse(BaseModel):\n",
        "    response: str = Field(..., title=\"Generated response\", description=\"The generated response.\")\n",
        "generation_prompt = PromptTemplate(\n",
        "    input_variables=[\"query\", \"context\"],\n",
        "    template=\"Given the query '{query}' and the context '{context}', generate a response.\"\n",
        ")\n",
        "\n",
        "class SupportResponse(BaseModel):\n",
        "    response: str = Field(..., title=\"Determines if response is supported\", description=\"Output 'Fully supported', 'Partially supported', or 'No support'.\")\n",
        "support_prompt = PromptTemplate(\n",
        "    input_variables=[\"response\", \"context\"],\n",
        "    template=\"Given the response '{response}' and the context '{context}', determine if the response is supported by the context. Output 'Fully supported', 'Partially supported', or 'No support'.\"\n",
        ")\n",
        "\n",
        "class UtilityResponse(BaseModel):\n",
        "    response: int = Field(..., title=\"Utility rating\", description=\"Rate the utility of the response from 1 to 5.\")\n",
        "utility_prompt = PromptTemplate(\n",
        "    input_variables=[\"query\", \"response\"],\n",
        "    template=\"Given the query '{query}' and the response '{response}', rate the utility of the response from 1 to 5.\"\n",
        ")\n",
        "\n",
        "# Create LLMChains for each step\n",
        "retrieval_chain = retrieval_prompt | llm.with_structured_output(RetrievalResponse)\n",
        "relevance_chain = relevance_prompt | llm.with_structured_output(RelevanceResponse)\n",
        "generation_chain = generation_prompt | llm.with_structured_output(GenerationResponse)\n",
        "support_chain = support_prompt | llm.with_structured_output(SupportResponse)\n",
        "utility_chain = utility_prompt | llm.with_structured_output(UtilityResponse)"
      ]
    },
    {
      "cell_type": "markdown",
      "metadata": {
        "id": "WoR9Ja-fQnO5"
      },
      "source": [
        "### Defining the self RAG logic flow"
      ]
    },
    {
      "cell_type": "code",
      "execution_count": null,
      "metadata": {
        "id": "wulc05YqQnO5"
      },
      "outputs": [],
      "source": [
        "def self_rag(query, vectorstore, top_k=3):\n",
        "    print(f\"\\nProcessing query: {query}\")\n",
        "\n",
        "    # Step 1: Determine if retrieval is necessary\n",
        "    print(\"Step 1: Determining if retrieval is necessary...\")\n",
        "    input_data = {\"query\": query}\n",
        "    retrieval_decision = retrieval_chain.invoke(input_data).response.strip().lower()\n",
        "    print(f\"Retrieval decision: {retrieval_decision}\")\n",
        "\n",
        "    if retrieval_decision == 'yes':\n",
        "        # Step 2: Retrieve relevant documents\n",
        "        print(\"Step 2: Retrieving relevant documents...\")\n",
        "        docs = vectorstore.similarity_search(query, k=top_k)\n",
        "        contexts = [doc.page_content for doc in docs]\n",
        "        print(f\"Retrieved {len(contexts)} documents\")\n",
        "\n",
        "        # Step 3: Evaluate relevance of retrieved documents\n",
        "        print(\"Step 3: Evaluating relevance of retrieved documents...\")\n",
        "        relevant_contexts = []\n",
        "        for i, context in enumerate(contexts):\n",
        "            input_data = {\"query\": query, \"context\": context}\n",
        "            relevance = relevance_chain.invoke(input_data).response.strip().lower()\n",
        "            print(f\"Document {i+1} relevance: {relevance}\")\n",
        "            if relevance == 'relevant':\n",
        "                relevant_contexts.append(context)\n",
        "\n",
        "        print(f\"Number of relevant contexts: {len(relevant_contexts)}\")\n",
        "\n",
        "        # If no relevant contexts found, generate without retrieval\n",
        "        if not relevant_contexts:\n",
        "            print(\"No relevant contexts found. Generating without retrieval...\")\n",
        "            input_data = {\"query\": query, \"context\": \"No relevant context found.\"}\n",
        "            return generation_chain.invoke(input_data).response\n",
        "\n",
        "        # Step 4: Generate response using relevant contexts\n",
        "        print(\"Step 4: Generating responses using relevant contexts...\")\n",
        "        responses = []\n",
        "        for i, context in enumerate(relevant_contexts):\n",
        "            print(f\"Generating response for context {i+1}...\")\n",
        "            input_data = {\"query\": query, \"context\": context}\n",
        "            response = generation_chain.invoke(input_data).response\n",
        "\n",
        "            # Step 5: Assess support\n",
        "            print(f\"Step 5: Assessing support for response {i+1}...\")\n",
        "            input_data = {\"response\": response, \"context\": context}\n",
        "            support = support_chain.invoke(input_data).response.strip().lower()\n",
        "            print(f\"Support assessment: {support}\")\n",
        "\n",
        "            # Step 6: Evaluate utility\n",
        "            print(f\"Step 6: Evaluating utility for response {i+1}...\")\n",
        "            input_data = {\"query\": query, \"response\": response}\n",
        "            utility = int(utility_chain.invoke(input_data).response)\n",
        "            print(f\"Utility score: {utility}\")\n",
        "\n",
        "            responses.append((response, support, utility))\n",
        "\n",
        "        # Select the best response based on support and utility\n",
        "        print(\"Selecting the best response...\")\n",
        "        best_response = max(responses, key=lambda x: (x[1] == 'fully supported', x[2]))\n",
        "        print(f\"Best response support: {best_response[1]}, utility: {best_response[2]}\")\n",
        "        return best_response[0]\n",
        "    else:\n",
        "        # Generate without retrieval\n",
        "        print(\"Generating without retrieval...\")\n",
        "        input_data = {\"query\": query, \"context\": \"No retrieval necessary.\"}\n",
        "        return generation_chain.invoke(input_data).response"
      ]
    },
    {
      "cell_type": "markdown",
      "metadata": {
        "id": "7XylLemKQnO5"
      },
      "source": [
        "### Test the self-RAG function easy query with high relevance\n"
      ]
    },
    {
      "cell_type": "code",
      "execution_count": null,
      "metadata": {
        "id": "iJHGDp9GQnO5"
      },
      "outputs": [],
      "source": [
        "query = \"What is the impact of climate change on the environment?\"\n",
        "response = self_rag(query, vectorstore)\n",
        "\n",
        "print(\"\\nFinal response:\")\n",
        "print(response)"
      ]
    },
    {
      "cell_type": "markdown",
      "metadata": {
        "id": "yyqhwEOoQnO5"
      },
      "source": [
        "### Test the self-RAG function with a more challenging query with low relevance\n"
      ]
    },
    {
      "cell_type": "code",
      "execution_count": null,
      "metadata": {
        "id": "DYbLb_LCQnO5"
      },
      "outputs": [],
      "source": [
        "query = \"how did harry beat quirrell?\"\n",
        "response = self_rag(query, vectorstore)\n",
        "\n",
        "print(\"\\nFinal response:\")\n",
        "print(response)"
      ]
    }
  ],
  "metadata": {
    "colab": {
      "provenance": [],
      "toc_visible": true
    },
    "kernelspec": {
      "display_name": "Python 3",
      "name": "python3"
    },
    "language_info": {
      "codemirror_mode": {
        "name": "ipython",
        "version": 3
      },
      "file_extension": ".py",
      "mimetype": "text/x-python",
      "name": "python",
      "nbconvert_exporter": "python",
      "pygments_lexer": "ipython3",
      "version": "3.12.0"
    }
  },
  "nbformat": 4,
  "nbformat_minor": 0
}